{
 "cells": [
  {
   "cell_type": "code",
   "execution_count": 45,
   "metadata": {},
   "outputs": [],
   "source": [
    "import os\n",
    "import sys\n",
    "import subprocess\n",
    "from contextlib import contextmanager\n",
    "import signal\n",
    "import filecmp\n",
    "import difflib\n",
    "import shutil\n",
    "\n",
    "# Configurations\n",
    "toolchain_path = \"/home/r1c0/riscv/bin/riscv64-unknown-linux-gnu-\"\n",
    "compiler_path = \"./build/SYSY-compiler\"\n",
    "test_folder=\"./testcases\"\n",
    "sylib_path = \"./RISCVLib/sylib.c\"\n",
    "# xxx.sy 会被复制到./function_test/test.c\n",
    "temp_path = \"./function_test\"\n",
    "pass_args=[]\n",
    "Tolerance = True\n",
    "\n",
    "CE_list = [] # Compile Error\n",
    "AE_list = [] # Assembler Error\n",
    "LE_list = [] # Linker Error\n",
    "Time_Out = []\n",
    "WA_list = []\n",
    "AC_list = []\n",
    "TLE_list = []\n",
    "BadTest_list = []\n",
    "\n",
    "Prob_list = []\n",
    "test_list = []"
   ]
  },
  {
   "cell_type": "code",
   "execution_count": 46,
   "metadata": {},
   "outputs": [],
   "source": [
    "# grab all the testcases\n",
    "# find files recursively\n",
    "def GrabFile():\n",
    "    for root, dirs, files in os.walk(test_folder):\n",
    "        for file in files:\n",
    "            if file.endswith(\".sy\"):\n",
    "                test_list.append(os.path.join(root, file))"
   ]
  },
  {
   "cell_type": "code",
   "execution_count": 47,
   "metadata": {},
   "outputs": [],
   "source": [
    "def CopyFileToTemp(test):\n",
    "    # No Bad Test Now\n",
    "    shutil.copy(test,temp_path+\"/test.c\")\n",
    "    if os.path.exists(test[:-2]+\"in\"):\n",
    "        shutil.copy(test[:-2]+\"in\",temp_path+\"/test.in\")\n",
    "    if os.path.exists(test[:-2]+\"out\"):\n",
    "        shutil.copy(test[:-2]+\"out\",temp_path+\"/test.out\")"
   ]
  },
  {
   "cell_type": "code",
   "execution_count": 48,
   "metadata": {},
   "outputs": [],
   "source": [
    "def TryCompile(original_case_path):\n",
    "    compile_args=[compiler_path, temp_path + \"/test.c\"]\n",
    "    for arg in pass_args:\n",
    "        compile_args.append(arg)\n",
    "    try:\n",
    "        ret = subprocess.run(compile_args,timeout=1)\n",
    "    except subprocess.TimeoutExpired:\n",
    "        Time_Out.append(original_case_path)\n",
    "        print(\"Timeout: \"+original_case_path)\n",
    "        return False\n",
    "    if ret.returncode != 0:\n",
    "        CE_list.append(original_case_path)\n",
    "        print(\"CE: \"+original_case_path)\n",
    "        return False\n",
    "    return True"
   ]
  },
  {
   "cell_type": "code",
   "execution_count": 49,
   "metadata": {},
   "outputs": [],
   "source": [
    "def TryAssemble(original_case_path):\n",
    "    try:\n",
    "        ret = subprocess.run([toolchain_path+\"as\", temp_path + \"/test.s\", \"-o\", temp_path + \"/test.o\"],timeout=10)\n",
    "    except subprocess.TimeoutExpired:\n",
    "        print(\"IMPOSSIBLE, AS TIMEOUT\")\n",
    "        exit(-1)\n",
    "    if ret.returncode != 0:\n",
    "        AE_list.append(original_case_path)\n",
    "        print(\"AE: \"+original_case_path)\n",
    "        return False\n",
    "    return True"
   ]
  },
  {
   "cell_type": "code",
   "execution_count": 50,
   "metadata": {},
   "outputs": [],
   "source": [
    "def TryLink(orginal_case_path):\n",
    "    try:\n",
    "        ret = subprocess.run([toolchain_path+\"gcc\", temp_path + \"/test.o\", temp_path+\"/sylib.o\", \"-o\", temp_path + \"/test\"],timeout=10)\n",
    "    except subprocess.TimeoutExpired:\n",
    "        print(\"IMPOSSIBLE, LD TIMEOUT\")\n",
    "        exit(-1)\n",
    "    if ret.returncode != 0:\n",
    "        LE_list.append(orginal_case_path)\n",
    "        print(\"LE: \"+orginal_case_path)\n",
    "        return False\n",
    "    return True"
   ]
  },
  {
   "cell_type": "code",
   "execution_count": 51,
   "metadata": {},
   "outputs": [],
   "source": [
    "\n",
    "def RunTest(original_case_path):\n",
    "    try:\n",
    "        if not os.path.exists(temp_path+\"/test.in\"):\n",
    "            ret = subprocess.run([\"qemu-riscv64\", temp_path + \"/test\"],stdout=subprocess.PIPE,stderr=subprocess.PIPE,timeout=1)\n",
    "        else:\n",
    "            ret = subprocess.run([\"qemu-riscv64\", temp_path + \"/test\"],stdin=open(temp_path+\"/test.in\"),stdout=subprocess.PIPE,stderr=subprocess.PIPE,timeout=1)\n",
    "    except subprocess.TimeoutExpired:\n",
    "        print(\"TIMEOUT ERROR: \"+original_case_path)\n",
    "        TLE_list.append(original_case_path)\n",
    "        return False\n",
    "    \n",
    "    if not os.path.exists(temp_path + \"/test.out\"):\n",
    "        BadTest_list.append(original_case_path)\n",
    "        return False\n",
    "    else:\n",
    "        out_file=temp_path + \"/test.out\"\n",
    "    \n",
    "    dump_str=ret.stdout.decode()\n",
    "    # dump_str1 = ret1.stdout.decode()\n",
    "    # remove whitesspace in the end\n",
    "    # dump_str=dump_str.rstrip()\n",
    "    # if dump_str1 and not dump_str1.endswith('\\n'):\n",
    "    #     dump_str1 += \"\\n\"\n",
    "    # if not dump_str1.endswith(''):\n",
    "    #     print(\"RISCV Test Error\")\n",
    "    if dump_str and not dump_str.endswith('\\n'):\n",
    "        dump_str += \"\\n\"\n",
    "    dump_str += str(ret.returncode) + \"\\n\"\n",
    "    std_output=open(out_file).read()\n",
    "    diff = difflib.unified_diff(dump_str.splitlines(), std_output.splitlines(), lineterm='')\n",
    "    if(len(list(diff))!=0):\n",
    "        print(\"Wrong Answer: \"+original_case_path)\n",
    "        WA_list.append(original_case_path)\n",
    "        print(original_case_path)\n",
    "        return False\n",
    "    \n",
    "    return True"
   ]
  },
  {
   "cell_type": "code",
   "execution_count": 52,
   "metadata": {},
   "outputs": [],
   "source": [
    "def Tolerant(FuncList,original_file_name):\n",
    "    for func in FuncList:\n",
    "        ret = func(original_file_name)\n",
    "        if ret == False and Tolerance == False:\n",
    "            print(\"No Tolerence, exit\")\n",
    "            sys.exit(-1)\n",
    "        if ret == False:\n",
    "            return False\n",
    "    return True"
   ]
  },
  {
   "cell_type": "code",
   "execution_count": 53,
   "metadata": {},
   "outputs": [],
   "source": [
    "def TestSingleCase(test):\n",
    "    CopyFileToTemp(test)\n",
    "    if Tolerant([TryCompile,TryAssemble,TryLink, RunTest],test)==False:\n",
    "        return False\n",
    "    AC_list.append(test)\n",
    "    return True"
   ]
  },
  {
   "cell_type": "code",
   "execution_count": 54,
   "metadata": {},
   "outputs": [
    {
     "data": {
      "text/plain": [
       "CompletedProcess(args=['/home/r1c0/riscv/bin/riscv64-unknown-linux-gnu-gcc', './RISCVLib/sylib.c', '-c', '-o', './function_test/sylib.o'], returncode=0)"
      ]
     },
     "execution_count": 54,
     "metadata": {},
     "output_type": "execute_result"
    }
   ],
   "source": [
    "# Compile the sylib.c\n",
    "subprocess.run([toolchain_path+\"gcc\", sylib_path, \"-c\", \"-o\", temp_path+\"/sylib.o\"])"
   ]
  },
  {
   "cell_type": "code",
   "execution_count": 55,
   "metadata": {},
   "outputs": [
    {
     "name": "stdout",
     "output_type": "stream",
     "text": [
      "Pass: ./testcases/functional/50_short_circuit.sy\n",
      "Wrong Answer: ./testcases/functional/69_expr_eval.sy\n",
      "./testcases/functional/69_expr_eval.sy\n",
      "Pass: ./testcases/functional/49_if_complex_expr.sy\n",
      "Pass: ./testcases/functional/11_add2.sy\n",
      "Wrong Answer: ./testcases/functional/64_calculator.sy\n",
      "./testcases/functional/64_calculator.sy\n",
      "Wrong Answer: ./testcases/functional/95_float.sy\n",
      "./testcases/functional/95_float.sy\n",
      "Pass: ./testcases/functional/61_sort_test7.sy\n",
      "Pass: ./testcases/functional/29_break.sy\n",
      "Pass: ./testcases/functional/45_comment1.sy\n",
      "Pass: ./testcases/functional/47_hex_oct_add.sy\n",
      "Pass: ./testcases/functional/55_sort_test1.sy\n",
      "Pass: ./testcases/functional/05_arr_defn4.sy\n",
      "Pass: ./testcases/functional/58_sort_test4.sy\n",
      "Pass: ./testcases/functional/08_const_array_defn.sy\n",
      "Pass: ./testcases/functional/54_hidden_var.sy\n",
      "Wrong Answer: ./testcases/functional/82_long_func.sy\n",
      "./testcases/functional/82_long_func.sy\n",
      "Wrong Answer: ./testcases/functional/53_scope2.sy\n",
      "./testcases/functional/53_scope2.sy\n",
      "Wrong Answer: ./testcases/functional/75_max_flow.sy\n",
      "./testcases/functional/75_max_flow.sy\n",
      "Wrong Answer: ./testcases/functional/77_substr.sy\n",
      "./testcases/functional/77_substr.sy\n",
      "Pass: ./testcases/functional/32_while_if_test2.sy\n",
      "Pass: ./testcases/functional/56_sort_test2.sy\n",
      "Pass: ./testcases/functional/72_hanoi.sy\n",
      "Pass: ./testcases/functional/00_main.sy\n",
      "Pass: ./testcases/functional/43_logi_assign.sy\n",
      "Pass: ./testcases/functional/21_if_test2.sy\n",
      "Timeout: ./testcases/functional/87_many_params.sy\n",
      "Pass: ./testcases/functional/15_mul.sy\n",
      "Pass: ./testcases/functional/07_const_var_defn3.sy\n",
      "Pass: ./testcases/functional/06_const_var_defn2.sy\n",
      "Pass: ./testcases/functional/18_divc.sy\n",
      "Pass: ./testcases/functional/85_long_code.sy\n",
      "Pass: ./testcases/functional/66_exgcd.sy\n"
     ]
    },
    {
     "ename": "UnicodeDecodeError",
     "evalue": "'utf-8' codec can't decode byte 0xaa in position 0: invalid start byte",
     "output_type": "error",
     "traceback": [
      "\u001b[0;31m---------------------------------------------------------------------------\u001b[0m",
      "\u001b[0;31mUnicodeDecodeError\u001b[0m                        Traceback (most recent call last)",
      "Cell \u001b[0;32mIn[55], line 9\u001b[0m\n\u001b[1;32m      7\u001b[0m \u001b[38;5;28;01mfor\u001b[39;00m test \u001b[38;5;129;01min\u001b[39;00m test_list:\n\u001b[1;32m      8\u001b[0m     \u001b[38;5;28;01mif\u001b[39;00m test\u001b[38;5;241m.\u001b[39mendswith(\u001b[38;5;124m\"\u001b[39m\u001b[38;5;124m.sy\u001b[39m\u001b[38;5;124m\"\u001b[39m):\n\u001b[0;32m----> 9\u001b[0m         \u001b[38;5;28;01mif\u001b[39;00m \u001b[43mTestSingleCase\u001b[49m\u001b[43m(\u001b[49m\u001b[43mtest\u001b[49m\u001b[43m)\u001b[49m:\n\u001b[1;32m     10\u001b[0m             \u001b[38;5;28mprint\u001b[39m(\u001b[38;5;124m\"\u001b[39m\u001b[38;5;124mPass: \u001b[39m\u001b[38;5;124m\"\u001b[39m\u001b[38;5;241m+\u001b[39mtest)\n",
      "Cell \u001b[0;32mIn[53], line 3\u001b[0m, in \u001b[0;36mTestSingleCase\u001b[0;34m(test)\u001b[0m\n\u001b[1;32m      1\u001b[0m \u001b[38;5;28;01mdef\u001b[39;00m \u001b[38;5;21mTestSingleCase\u001b[39m(test):\n\u001b[1;32m      2\u001b[0m     CopyFileToTemp(test)\n\u001b[0;32m----> 3\u001b[0m     \u001b[38;5;28;01mif\u001b[39;00m \u001b[43mTolerant\u001b[49m\u001b[43m(\u001b[49m\u001b[43m[\u001b[49m\u001b[43mTryCompile\u001b[49m\u001b[43m,\u001b[49m\u001b[43mTryAssemble\u001b[49m\u001b[43m,\u001b[49m\u001b[43mTryLink\u001b[49m\u001b[43m,\u001b[49m\u001b[43m \u001b[49m\u001b[43mRunTest\u001b[49m\u001b[43m]\u001b[49m\u001b[43m,\u001b[49m\u001b[43mtest\u001b[49m\u001b[43m)\u001b[49m\u001b[38;5;241m==\u001b[39m\u001b[38;5;28;01mFalse\u001b[39;00m:\n\u001b[1;32m      4\u001b[0m         \u001b[38;5;28;01mreturn\u001b[39;00m \u001b[38;5;28;01mFalse\u001b[39;00m\n\u001b[1;32m      5\u001b[0m     AC_list\u001b[38;5;241m.\u001b[39mappend(test)\n",
      "Cell \u001b[0;32mIn[52], line 3\u001b[0m, in \u001b[0;36mTolerant\u001b[0;34m(FuncList, original_file_name)\u001b[0m\n\u001b[1;32m      1\u001b[0m \u001b[38;5;28;01mdef\u001b[39;00m \u001b[38;5;21mTolerant\u001b[39m(FuncList,original_file_name):\n\u001b[1;32m      2\u001b[0m     \u001b[38;5;28;01mfor\u001b[39;00m func \u001b[38;5;129;01min\u001b[39;00m FuncList:\n\u001b[0;32m----> 3\u001b[0m         ret \u001b[38;5;241m=\u001b[39m \u001b[43mfunc\u001b[49m\u001b[43m(\u001b[49m\u001b[43moriginal_file_name\u001b[49m\u001b[43m)\u001b[49m\n\u001b[1;32m      4\u001b[0m         \u001b[38;5;28;01mif\u001b[39;00m ret \u001b[38;5;241m==\u001b[39m \u001b[38;5;28;01mFalse\u001b[39;00m \u001b[38;5;129;01mand\u001b[39;00m Tolerance \u001b[38;5;241m==\u001b[39m \u001b[38;5;28;01mFalse\u001b[39;00m:\n\u001b[1;32m      5\u001b[0m             \u001b[38;5;28mprint\u001b[39m(\u001b[38;5;124m\"\u001b[39m\u001b[38;5;124mNo Tolerence, exit\u001b[39m\u001b[38;5;124m\"\u001b[39m)\n",
      "Cell \u001b[0;32mIn[51], line 18\u001b[0m, in \u001b[0;36mRunTest\u001b[0;34m(original_case_path)\u001b[0m\n\u001b[1;32m     15\u001b[0m \u001b[38;5;28;01melse\u001b[39;00m:\n\u001b[1;32m     16\u001b[0m     out_file\u001b[38;5;241m=\u001b[39mtemp_path \u001b[38;5;241m+\u001b[39m \u001b[38;5;124m\"\u001b[39m\u001b[38;5;124m/test.out\u001b[39m\u001b[38;5;124m\"\u001b[39m\n\u001b[0;32m---> 18\u001b[0m dump_str\u001b[38;5;241m=\u001b[39m\u001b[43mret\u001b[49m\u001b[38;5;241;43m.\u001b[39;49m\u001b[43mstdout\u001b[49m\u001b[38;5;241;43m.\u001b[39;49m\u001b[43mdecode\u001b[49m\u001b[43m(\u001b[49m\u001b[43m)\u001b[49m\n\u001b[1;32m     19\u001b[0m \u001b[38;5;66;03m# dump_str1 = ret1.stdout.decode()\u001b[39;00m\n\u001b[1;32m     20\u001b[0m \u001b[38;5;66;03m# remove whitesspace in the end\u001b[39;00m\n\u001b[1;32m     21\u001b[0m \u001b[38;5;66;03m# dump_str=dump_str.rstrip()\u001b[39;00m\n\u001b[0;32m   (...)\u001b[0m\n\u001b[1;32m     24\u001b[0m \u001b[38;5;66;03m# if not dump_str1.endswith(''):\u001b[39;00m\n\u001b[1;32m     25\u001b[0m \u001b[38;5;66;03m#     print(\"RISCV Test Error\")\u001b[39;00m\n\u001b[1;32m     26\u001b[0m \u001b[38;5;28;01mif\u001b[39;00m dump_str \u001b[38;5;129;01mand\u001b[39;00m \u001b[38;5;129;01mnot\u001b[39;00m dump_str\u001b[38;5;241m.\u001b[39mendswith(\u001b[38;5;124m'\u001b[39m\u001b[38;5;130;01m\\n\u001b[39;00m\u001b[38;5;124m'\u001b[39m):\n",
      "\u001b[0;31mUnicodeDecodeError\u001b[0m: 'utf-8' codec can't decode byte 0xaa in position 0: invalid start byte"
     ]
    }
   ],
   "source": [
    "if len(Prob_list) == 0:\n",
    "    GrabFile()\n",
    "else:\n",
    "    test_list=Prob_list\n",
    "    Prob_list.clear()\n",
    "    \n",
    "for test in test_list:\n",
    "    if test.endswith(\".sy\"):\n",
    "        if TestSingleCase(test):\n",
    "            print(\"Pass: \"+test)"
   ]
  },
  {
   "cell_type": "code",
   "execution_count": null,
   "metadata": {},
   "outputs": [
    {
     "name": "stdout",
     "output_type": "stream",
     "text": [
      "68\n",
      "150\n",
      "0\n",
      "4\n",
      "0\n",
      "11\n",
      "2\n",
      "0\n"
     ]
    }
   ],
   "source": [
    "# print all wrong tests and mv one of them to temp_folder for debugging\n",
    "print(len(AC_list))\n",
    "print(len(WA_list))\n",
    "print(len(CE_list))\n",
    "print(len(AE_list))\n",
    "print(len(LE_list))\n",
    "print(len(Time_Out))\n",
    "print(len(TLE_list))\n",
    "print(len(BadTest_list))"
   ]
  },
  {
   "cell_type": "code",
   "execution_count": null,
   "metadata": {},
   "outputs": [
    {
     "name": "stdout",
     "output_type": "stream",
     "text": [
      "./testcases/functional/55_sort_test1.sy\n"
     ]
    }
   ],
   "source": [
    "def MV2WorkSpace(CasesList,k):\n",
    "    case = CasesList[k]\n",
    "    CopyFileToTemp(case)\n",
    "    print(case)\n",
    "    return\n",
    "        \n",
    "MV2WorkSpace(WA_list,4)"
   ]
  }
 ],
 "metadata": {
  "kernelspec": {
   "display_name": "Python 3",
   "language": "python",
   "name": "python3"
  },
  "language_info": {
   "codemirror_mode": {
    "name": "ipython",
    "version": 3
   },
   "file_extension": ".py",
   "mimetype": "text/x-python",
   "name": "python",
   "nbconvert_exporter": "python",
   "pygments_lexer": "ipython3",
   "version": "3.9.18"
  }
 },
 "nbformat": 4,
 "nbformat_minor": 2
}
