{
 "cells": [
  {
   "cell_type": "code",
   "execution_count": 62,
   "metadata": {},
   "outputs": [],
   "source": [
    "import os\n",
    "import sys\n",
    "import subprocess\n",
    "from contextlib import contextmanager\n",
    "import signal\n",
    "import filecmp\n",
    "import difflib\n",
    "import shutil\n",
    "\n",
    "# Configurations\n",
    "toolchain_path = \"/home/r1c0/riscv/bin/riscv64-unknown-linux-gnu-\"\n",
    "compiler_path = \"./build/SYSY-compiler\"\n",
    "test_folder=\"./testcases\"\n",
    "sylib_path = \"./RISCVLib/sylib.c\"\n",
    "# xxx.sy 会被复制到./function_test/test.c\n",
    "temp_path = \"./function_test\"\n",
    "pass_args=[\n",
    "                \"./function_test/test.c\",\n",
    "                \"--deadargselimination\",\n",
    "                \"--storeonlyglobalelimination\",\n",
    "                \"--global2local\",\n",
    "                \"--mem2reg\",\n",
    "                \"--constprop\",\n",
    "                \"--dce\",\n",
    "                \"--simplifycfg\",\n",
    "                \"--inline\",\n",
    "                \"--global2local\",\n",
    "                \"--mem2reg\",\n",
    "                \"--constprop\",\n",
    "                \"--simplifycfg\",\n",
    "                \"--cse\",\n",
    "                \"--reassociate\",\n",
    "                \"--constprop\",\n",
    "                \"--simplifycfg\",\n",
    "                \"--loopsimplify\",\n",
    "                \"--lcssa\",\n",
    "                \"--loop-rotate\",\n",
    "            ]\n",
    "Tolerance = True\n",
    "\n",
    "CE_list = [] # Compile Error\n",
    "AE_list = [] # Assembler Error\n",
    "LE_list = [] # Linker Error\n",
    "Time_Out = []\n",
    "WA_list = []\n",
    "AC_list = []\n",
    "TLE_list = []\n",
    "BadTest_list = []\n",
    "\n",
    "Prob_list = []\n",
    "test_list = []"
   ]
  },
  {
   "cell_type": "code",
   "execution_count": 63,
   "metadata": {},
   "outputs": [],
   "source": [
    "# grab all the testcases\n",
    "# find files recursively\n",
    "def GrabFile():\n",
    "    for root, dirs, files in os.walk(test_folder):\n",
    "        for file in files:\n",
    "            if file.endswith(\".sy\"):\n",
    "                test_list.append(os.path.join(root, file))"
   ]
  },
  {
   "cell_type": "code",
   "execution_count": 64,
   "metadata": {},
   "outputs": [],
   "source": [
    "def CopyFileToTemp(test):\n",
    "    # No Bad Test Now\n",
    "    shutil.copy(test,temp_path+\"/test.c\")\n",
    "    if os.path.exists(test[:-2]+\"in\"):\n",
    "        shutil.copy(test[:-2]+\"in\",temp_path+\"/test.in\")\n",
    "    if os.path.exists(test[:-2]+\"out\"):\n",
    "        shutil.copy(test[:-2]+\"out\",temp_path+\"/test.out\")"
   ]
  },
  {
   "cell_type": "code",
   "execution_count": 65,
   "metadata": {},
   "outputs": [],
   "source": [
    "def TryCompile(original_case_path):\n",
    "    compile_args=[compiler_path,temp_path + \"/test.c\"]\n",
    "    for arg in pass_args:\n",
    "        compile_args.append(arg)\n",
    "    try:\n",
    "        ret = subprocess.run(compile_args,timeout=60)\n",
    "    except subprocess.TimeoutExpired:\n",
    "        Time_Out.append(original_case_path)\n",
    "        print(\"Timeout: \"+original_case_path)\n",
    "        return False\n",
    "    if ret.returncode != 0:\n",
    "        CE_list.append(original_case_path)\n",
    "        print(\"CE: \"+original_case_path)\n",
    "        return False\n",
    "    return True"
   ]
  },
  {
   "cell_type": "code",
   "execution_count": 66,
   "metadata": {},
   "outputs": [],
   "source": [
    "def TryAssemble(original_case_path):\n",
    "    try:\n",
    "        ret = subprocess.run([toolchain_path+\"as\", temp_path + \"/test.s\", \"-o\", temp_path + \"/test.o\"],timeout=10)\n",
    "    except subprocess.TimeoutExpired:\n",
    "        print(\"IMPOSSIBLE, AS TIMEOUT\")\n",
    "        exit(-1)\n",
    "    if ret.returncode != 0:\n",
    "        AE_list.append(original_case_path)\n",
    "        print(\"AE: \"+original_case_path)\n",
    "        return False\n",
    "    return True"
   ]
  },
  {
   "cell_type": "code",
   "execution_count": 67,
   "metadata": {},
   "outputs": [],
   "source": [
    "def TryLink(orginal_case_path):\n",
    "    try:\n",
    "        ret = subprocess.run([toolchain_path+\"gcc\", temp_path + \"/test.o\", temp_path+\"/sylib.o\", \"-o\", temp_path + \"/test\"],timeout=10)\n",
    "    except subprocess.TimeoutExpired:\n",
    "        print(\"IMPOSSIBLE, LD TIMEOUT\")\n",
    "        exit(-1)\n",
    "    if ret.returncode != 0:\n",
    "        LE_list.append(orginal_case_path)\n",
    "        print(\"LE: \"+orginal_case_path)\n",
    "        return False\n",
    "    return True"
   ]
  },
  {
   "cell_type": "code",
   "execution_count": 68,
   "metadata": {},
   "outputs": [],
   "source": [
    "def RunTest(original_case_path, test_args):\n",
    "    try:\n",
    "        if not os.path.exists(temp_path+\"/test.in\"):\n",
    "            ret = subprocess.run(test_args,stdout=subprocess.PIPE,stderr=subprocess.PIPE,timeout=30)\n",
    "        else:\n",
    "            ret = subprocess.run(test_args,stdin=open(temp_path+\"/test.in\"),stdout=subprocess.PIPE,stderr=subprocess.PIPE,timeout=30)\n",
    "    except subprocess.TimeoutExpired:\n",
    "        print(\"TIMEOUT ERROR: \"+original_case_path)\n",
    "        TLE_list.append(original_case_path)\n",
    "        return False\n",
    "    \n",
    "    if not os.path.exists(temp_path + \"/test.out\"):\n",
    "        BadTest_list.append(original_case_path)\n",
    "        return False\n",
    "    else:\n",
    "        out_file=temp_path + \"/test.out\"\n",
    "    \n",
    "    dump_str=ret.stdout.decode()\n",
    "    # dump_str1 = ret1.stdout.decode()\n",
    "    # remove whitesspace in the end\n",
    "    # dump_str=dump_str.rstrip()\n",
    "    # if dump_str1 and not dump_str1.endswith('\\n'):\n",
    "    #     dump_str1 += \"\\n\"\n",
    "    # if not dump_str1.endswith(''):\n",
    "    #     print(\"RISCV Test Error\")\n",
    "    if dump_str and not dump_str.endswith('\\n'):\n",
    "        dump_str += \"\\n\"\n",
    "    dump_str += str(ret.returncode) + \"\\n\"\n",
    "    std_output=open(out_file).read()\n",
    "    diff = difflib.unified_diff(dump_str.splitlines(), std_output.splitlines(), lineterm='')\n",
    "    if(len(list(diff))!=0):\n",
    "        print(\"Wrong Answer: \"+original_case_path)\n",
    "        WA_list.append(original_case_path)\n",
    "        return False\n",
    "    \n",
    "    return True\n",
    "\n",
    "def LLI_TEST(original_case_path):\n",
    "    print(\"LLI\\t\",end=\":\")\n",
    "    if RunTest(original_case_path,[\"/home/r1c0/llvm-project/build/bin/lli\",temp_path + \"/test.c.ll\"]):\n",
    "        print(\"Pass:\"+original_case_path)\n",
    "        return True\n",
    "    else:\n",
    "        return False\n",
    "\n",
    "def QEMU_TEST(original_case_path):\n",
    "    print(\"QEMU\\t\",end=\":\")\n",
    "    if RunTest(original_case_path,[\"qemu-riscv64\",temp_path + \"/test\"]):\n",
    "        print(\"Pass:\"+original_case_path)\n",
    "        return True\n",
    "    else:\n",
    "        return False"
   ]
  },
  {
   "cell_type": "code",
   "execution_count": 69,
   "metadata": {},
   "outputs": [],
   "source": [
    "def Tolerant(FuncList,original_file_name):\n",
    "    for func in FuncList:\n",
    "        ret = func(original_file_name)\n",
    "        if ret == False and Tolerance == False:\n",
    "            print(\"No Tolerence, exit\")\n",
    "            sys.exit(-1)\n",
    "        if ret == False:\n",
    "            return False\n",
    "    return True"
   ]
  },
  {
   "cell_type": "code",
   "execution_count": 70,
   "metadata": {},
   "outputs": [],
   "source": [
    "def TestSingleCase(test):\n",
    "    CopyFileToTemp(test)\n",
    "    if Tolerant([TryCompile,LLI_TEST,TryAssemble,TryLink,QEMU_TEST],test)==False:\n",
    "        return\n",
    "    AC_list.append(test)"
   ]
  },
  {
   "cell_type": "code",
   "execution_count": 71,
   "metadata": {},
   "outputs": [
    {
     "data": {
      "text/plain": [
       "CompletedProcess(args=['/home/r1c0/riscv/bin/riscv64-unknown-linux-gnu-gcc', './RISCVLib/sylib.c', '-c', '-o', './function_test/sylib.o'], returncode=0)"
      ]
     },
     "execution_count": 71,
     "metadata": {},
     "output_type": "execute_result"
    }
   ],
   "source": [
    "# Compile the sylib.c\n",
    "subprocess.run([toolchain_path+\"gcc\", sylib_path, \"-c\", \"-o\", temp_path+\"/sylib.o\"])"
   ]
  },
  {
   "cell_type": "code",
   "execution_count": 72,
   "metadata": {},
   "outputs": [
    {
     "name": "stdout",
     "output_type": "stream",
     "text": [
      "LLI\t:Pass:./testcases/functional/50_short_circuit.sy\n",
      "QEMU\t:Pass:./testcases/functional/50_short_circuit.sy\n",
      "CE: ./testcases/functional/69_expr_eval.sy\n",
      "LLI\t:"
     ]
    },
    {
     "name": "stderr",
     "output_type": "stream",
     "text": [
      "SYSY-compiler: /home/r1c0/Compiler/ir/opt/lcssa.cpp:189: void LcSSA::InsertPhis(Use*, std::set<BasicBlock*>&): Assertion `b && \"What happen?\"' failed.\n"
     ]
    },
    {
     "name": "stdout",
     "output_type": "stream",
     "text": [
      "Pass:./testcases/functional/49_if_complex_expr.sy\n",
      "QEMU\t:Pass:./testcases/functional/49_if_complex_expr.sy\n",
      "LLI\t:Pass:./testcases/functional/11_add2.sy\n",
      "QEMU\t:Pass:./testcases/functional/11_add2.sy\n"
     ]
    },
    {
     "ename": "KeyboardInterrupt",
     "evalue": "",
     "output_type": "error",
     "traceback": [
      "\u001b[0;31m---------------------------------------------------------------------------\u001b[0m",
      "\u001b[0;31mKeyboardInterrupt\u001b[0m                         Traceback (most recent call last)",
      "Cell \u001b[0;32mIn[72], line 9\u001b[0m\n\u001b[1;32m      7\u001b[0m \u001b[38;5;28;01mfor\u001b[39;00m test \u001b[38;5;129;01min\u001b[39;00m test_list:\n\u001b[1;32m      8\u001b[0m     \u001b[38;5;28;01mif\u001b[39;00m test\u001b[38;5;241m.\u001b[39mendswith(\u001b[38;5;124m\"\u001b[39m\u001b[38;5;124m.sy\u001b[39m\u001b[38;5;124m\"\u001b[39m):\n\u001b[0;32m----> 9\u001b[0m         \u001b[43mTestSingleCase\u001b[49m\u001b[43m(\u001b[49m\u001b[43mtest\u001b[49m\u001b[43m)\u001b[49m\n",
      "Cell \u001b[0;32mIn[70], line 3\u001b[0m, in \u001b[0;36mTestSingleCase\u001b[0;34m(test)\u001b[0m\n\u001b[1;32m      1\u001b[0m \u001b[38;5;28;01mdef\u001b[39;00m \u001b[38;5;21mTestSingleCase\u001b[39m(test):\n\u001b[1;32m      2\u001b[0m     CopyFileToTemp(test)\n\u001b[0;32m----> 3\u001b[0m     \u001b[38;5;28;01mif\u001b[39;00m \u001b[43mTolerant\u001b[49m\u001b[43m(\u001b[49m\u001b[43m[\u001b[49m\u001b[43mTryCompile\u001b[49m\u001b[43m,\u001b[49m\u001b[43mLLI_TEST\u001b[49m\u001b[43m,\u001b[49m\u001b[43mTryAssemble\u001b[49m\u001b[43m,\u001b[49m\u001b[43mTryLink\u001b[49m\u001b[43m,\u001b[49m\u001b[43mQEMU_TEST\u001b[49m\u001b[43m]\u001b[49m\u001b[43m,\u001b[49m\u001b[43mtest\u001b[49m\u001b[43m)\u001b[49m\u001b[38;5;241m==\u001b[39m\u001b[38;5;28;01mFalse\u001b[39;00m:\n\u001b[1;32m      4\u001b[0m         \u001b[38;5;28;01mreturn\u001b[39;00m\n\u001b[1;32m      5\u001b[0m     AC_list\u001b[38;5;241m.\u001b[39mappend(test)\n",
      "Cell \u001b[0;32mIn[69], line 3\u001b[0m, in \u001b[0;36mTolerant\u001b[0;34m(FuncList, original_file_name)\u001b[0m\n\u001b[1;32m      1\u001b[0m \u001b[38;5;28;01mdef\u001b[39;00m \u001b[38;5;21mTolerant\u001b[39m(FuncList,original_file_name):\n\u001b[1;32m      2\u001b[0m     \u001b[38;5;28;01mfor\u001b[39;00m func \u001b[38;5;129;01min\u001b[39;00m FuncList:\n\u001b[0;32m----> 3\u001b[0m         ret \u001b[38;5;241m=\u001b[39m \u001b[43mfunc\u001b[49m\u001b[43m(\u001b[49m\u001b[43moriginal_file_name\u001b[49m\u001b[43m)\u001b[49m\n\u001b[1;32m      4\u001b[0m         \u001b[38;5;28;01mif\u001b[39;00m ret \u001b[38;5;241m==\u001b[39m \u001b[38;5;28;01mFalse\u001b[39;00m \u001b[38;5;129;01mand\u001b[39;00m Tolerance \u001b[38;5;241m==\u001b[39m \u001b[38;5;28;01mFalse\u001b[39;00m:\n\u001b[1;32m      5\u001b[0m             \u001b[38;5;28mprint\u001b[39m(\u001b[38;5;124m\"\u001b[39m\u001b[38;5;124mNo Tolerence, exit\u001b[39m\u001b[38;5;124m\"\u001b[39m)\n",
      "Cell \u001b[0;32mIn[65], line 6\u001b[0m, in \u001b[0;36mTryCompile\u001b[0;34m(original_case_path)\u001b[0m\n\u001b[1;32m      4\u001b[0m     compile_args\u001b[38;5;241m.\u001b[39mappend(arg)\n\u001b[1;32m      5\u001b[0m \u001b[38;5;28;01mtry\u001b[39;00m:\n\u001b[0;32m----> 6\u001b[0m     ret \u001b[38;5;241m=\u001b[39m \u001b[43msubprocess\u001b[49m\u001b[38;5;241;43m.\u001b[39;49m\u001b[43mrun\u001b[49m\u001b[43m(\u001b[49m\u001b[43mcompile_args\u001b[49m\u001b[43m,\u001b[49m\u001b[43mtimeout\u001b[49m\u001b[38;5;241;43m=\u001b[39;49m\u001b[38;5;241;43m60\u001b[39;49m\u001b[43m)\u001b[49m\n\u001b[1;32m      7\u001b[0m \u001b[38;5;28;01mexcept\u001b[39;00m subprocess\u001b[38;5;241m.\u001b[39mTimeoutExpired:\n\u001b[1;32m      8\u001b[0m     Time_Out\u001b[38;5;241m.\u001b[39mappend(original_case_path)\n",
      "File \u001b[0;32m~/dl_learning/torch_learning/lib/python3.9/subprocess.py:507\u001b[0m, in \u001b[0;36mrun\u001b[0;34m(input, capture_output, timeout, check, *popenargs, **kwargs)\u001b[0m\n\u001b[1;32m    505\u001b[0m \u001b[38;5;28;01mwith\u001b[39;00m Popen(\u001b[38;5;241m*\u001b[39mpopenargs, \u001b[38;5;241m*\u001b[39m\u001b[38;5;241m*\u001b[39mkwargs) \u001b[38;5;28;01mas\u001b[39;00m process:\n\u001b[1;32m    506\u001b[0m     \u001b[38;5;28;01mtry\u001b[39;00m:\n\u001b[0;32m--> 507\u001b[0m         stdout, stderr \u001b[38;5;241m=\u001b[39m \u001b[43mprocess\u001b[49m\u001b[38;5;241;43m.\u001b[39;49m\u001b[43mcommunicate\u001b[49m\u001b[43m(\u001b[49m\u001b[38;5;28;43minput\u001b[39;49m\u001b[43m,\u001b[49m\u001b[43m \u001b[49m\u001b[43mtimeout\u001b[49m\u001b[38;5;241;43m=\u001b[39;49m\u001b[43mtimeout\u001b[49m\u001b[43m)\u001b[49m\n\u001b[1;32m    508\u001b[0m     \u001b[38;5;28;01mexcept\u001b[39;00m TimeoutExpired \u001b[38;5;28;01mas\u001b[39;00m exc:\n\u001b[1;32m    509\u001b[0m         process\u001b[38;5;241m.\u001b[39mkill()\n",
      "File \u001b[0;32m~/dl_learning/torch_learning/lib/python3.9/subprocess.py:1134\u001b[0m, in \u001b[0;36mPopen.communicate\u001b[0;34m(self, input, timeout)\u001b[0m\n\u001b[1;32m   1131\u001b[0m     endtime \u001b[38;5;241m=\u001b[39m \u001b[38;5;28;01mNone\u001b[39;00m\n\u001b[1;32m   1133\u001b[0m \u001b[38;5;28;01mtry\u001b[39;00m:\n\u001b[0;32m-> 1134\u001b[0m     stdout, stderr \u001b[38;5;241m=\u001b[39m \u001b[38;5;28;43mself\u001b[39;49m\u001b[38;5;241;43m.\u001b[39;49m\u001b[43m_communicate\u001b[49m\u001b[43m(\u001b[49m\u001b[38;5;28;43minput\u001b[39;49m\u001b[43m,\u001b[49m\u001b[43m \u001b[49m\u001b[43mendtime\u001b[49m\u001b[43m,\u001b[49m\u001b[43m \u001b[49m\u001b[43mtimeout\u001b[49m\u001b[43m)\u001b[49m\n\u001b[1;32m   1135\u001b[0m \u001b[38;5;28;01mexcept\u001b[39;00m \u001b[38;5;167;01mKeyboardInterrupt\u001b[39;00m:\n\u001b[1;32m   1136\u001b[0m     \u001b[38;5;66;03m# https://bugs.python.org/issue25942\u001b[39;00m\n\u001b[1;32m   1137\u001b[0m     \u001b[38;5;66;03m# See the detailed comment in .wait().\u001b[39;00m\n\u001b[1;32m   1138\u001b[0m     \u001b[38;5;28;01mif\u001b[39;00m timeout \u001b[38;5;129;01mis\u001b[39;00m \u001b[38;5;129;01mnot\u001b[39;00m \u001b[38;5;28;01mNone\u001b[39;00m:\n",
      "File \u001b[0;32m~/dl_learning/torch_learning/lib/python3.9/subprocess.py:2021\u001b[0m, in \u001b[0;36mPopen._communicate\u001b[0;34m(self, input, endtime, orig_timeout)\u001b[0m\n\u001b[1;32m   2018\u001b[0m                     key\u001b[38;5;241m.\u001b[39mfileobj\u001b[38;5;241m.\u001b[39mclose()\n\u001b[1;32m   2019\u001b[0m                 \u001b[38;5;28mself\u001b[39m\u001b[38;5;241m.\u001b[39m_fileobj2output[key\u001b[38;5;241m.\u001b[39mfileobj]\u001b[38;5;241m.\u001b[39mappend(data)\n\u001b[0;32m-> 2021\u001b[0m \u001b[38;5;28;43mself\u001b[39;49m\u001b[38;5;241;43m.\u001b[39;49m\u001b[43mwait\u001b[49m\u001b[43m(\u001b[49m\u001b[43mtimeout\u001b[49m\u001b[38;5;241;43m=\u001b[39;49m\u001b[38;5;28;43mself\u001b[39;49m\u001b[38;5;241;43m.\u001b[39;49m\u001b[43m_remaining_time\u001b[49m\u001b[43m(\u001b[49m\u001b[43mendtime\u001b[49m\u001b[43m)\u001b[49m\u001b[43m)\u001b[49m\n\u001b[1;32m   2023\u001b[0m \u001b[38;5;66;03m# All data exchanged.  Translate lists into strings.\u001b[39;00m\n\u001b[1;32m   2024\u001b[0m \u001b[38;5;28;01mif\u001b[39;00m stdout \u001b[38;5;129;01mis\u001b[39;00m \u001b[38;5;129;01mnot\u001b[39;00m \u001b[38;5;28;01mNone\u001b[39;00m:\n",
      "File \u001b[0;32m~/dl_learning/torch_learning/lib/python3.9/subprocess.py:1189\u001b[0m, in \u001b[0;36mPopen.wait\u001b[0;34m(self, timeout)\u001b[0m\n\u001b[1;32m   1187\u001b[0m     endtime \u001b[38;5;241m=\u001b[39m _time() \u001b[38;5;241m+\u001b[39m timeout\n\u001b[1;32m   1188\u001b[0m \u001b[38;5;28;01mtry\u001b[39;00m:\n\u001b[0;32m-> 1189\u001b[0m     \u001b[38;5;28;01mreturn\u001b[39;00m \u001b[38;5;28;43mself\u001b[39;49m\u001b[38;5;241;43m.\u001b[39;49m\u001b[43m_wait\u001b[49m\u001b[43m(\u001b[49m\u001b[43mtimeout\u001b[49m\u001b[38;5;241;43m=\u001b[39;49m\u001b[43mtimeout\u001b[49m\u001b[43m)\u001b[49m\n\u001b[1;32m   1190\u001b[0m \u001b[38;5;28;01mexcept\u001b[39;00m \u001b[38;5;167;01mKeyboardInterrupt\u001b[39;00m:\n\u001b[1;32m   1191\u001b[0m     \u001b[38;5;66;03m# https://bugs.python.org/issue25942\u001b[39;00m\n\u001b[1;32m   1192\u001b[0m     \u001b[38;5;66;03m# The first keyboard interrupt waits briefly for the child to\u001b[39;00m\n\u001b[1;32m   1193\u001b[0m     \u001b[38;5;66;03m# exit under the common assumption that it also received the ^C\u001b[39;00m\n\u001b[1;32m   1194\u001b[0m     \u001b[38;5;66;03m# generated SIGINT and will exit rapidly.\u001b[39;00m\n\u001b[1;32m   1195\u001b[0m     \u001b[38;5;28;01mif\u001b[39;00m timeout \u001b[38;5;129;01mis\u001b[39;00m \u001b[38;5;129;01mnot\u001b[39;00m \u001b[38;5;28;01mNone\u001b[39;00m:\n",
      "File \u001b[0;32m~/dl_learning/torch_learning/lib/python3.9/subprocess.py:1927\u001b[0m, in \u001b[0;36mPopen._wait\u001b[0;34m(self, timeout)\u001b[0m\n\u001b[1;32m   1925\u001b[0m             \u001b[38;5;28;01mraise\u001b[39;00m TimeoutExpired(\u001b[38;5;28mself\u001b[39m\u001b[38;5;241m.\u001b[39margs, timeout)\n\u001b[1;32m   1926\u001b[0m         delay \u001b[38;5;241m=\u001b[39m \u001b[38;5;28mmin\u001b[39m(delay \u001b[38;5;241m*\u001b[39m \u001b[38;5;241m2\u001b[39m, remaining, \u001b[38;5;241m.05\u001b[39m)\n\u001b[0;32m-> 1927\u001b[0m         \u001b[43mtime\u001b[49m\u001b[38;5;241;43m.\u001b[39;49m\u001b[43msleep\u001b[49m\u001b[43m(\u001b[49m\u001b[43mdelay\u001b[49m\u001b[43m)\u001b[49m\n\u001b[1;32m   1928\u001b[0m \u001b[38;5;28;01melse\u001b[39;00m:\n\u001b[1;32m   1929\u001b[0m     \u001b[38;5;28;01mwhile\u001b[39;00m \u001b[38;5;28mself\u001b[39m\u001b[38;5;241m.\u001b[39mreturncode \u001b[38;5;129;01mis\u001b[39;00m \u001b[38;5;28;01mNone\u001b[39;00m:\n",
      "\u001b[0;31mKeyboardInterrupt\u001b[0m: "
     ]
    }
   ],
   "source": [
    "if len(Prob_list) == 0:\n",
    "    GrabFile()\n",
    "else:\n",
    "    test_list=Prob_list\n",
    "    Prob_list.clear()\n",
    "    \n",
    "for test in test_list:\n",
    "    if test.endswith(\".sy\"):\n",
    "        TestSingleCase(test)"
   ]
  },
  {
   "cell_type": "code",
   "execution_count": null,
   "metadata": {},
   "outputs": [
    {
     "name": "stdout",
     "output_type": "stream",
     "text": [
      "1\n",
      "0\n",
      "0\n",
      "0\n",
      "0\n",
      "0\n",
      "0\n",
      "0\n"
     ]
    }
   ],
   "source": [
    "# print all wrong tests and mv one of them to temp_folder for debugging\n",
    "print(len(AC_list))\n",
    "print(len(WA_list))\n",
    "print(len(CE_list))\n",
    "print(len(AE_list))\n",
    "print(len(LE_list))\n",
    "print(len(Time_Out))\n",
    "print(len(TLE_list))\n",
    "print(len(BadTest_list))"
   ]
  },
  {
   "cell_type": "code",
   "execution_count": null,
   "metadata": {},
   "outputs": [
    {
     "name": "stdout",
     "output_type": "stream",
     "text": [
      "[]\n",
      "[]\n",
      "[]\n",
      "[]\n"
     ]
    }
   ],
   "source": [
    "def MV2WorkSpace(CasesList,k):\n",
    "    case = CasesList[k]\n",
    "    CopyFileToTemp(case)\n",
    "    print(case)\n",
    "    return\n",
    "        \n",
    "# MV2WorkSpace(WA_list,0)\n",
    "\n",
    "print(WA_list)\n",
    "print(CE_list)\n",
    "print(Time_Out)\n",
    "print(TLE_list)"
   ]
  }
 ],
 "metadata": {
  "kernelspec": {
   "display_name": "Python 3",
   "language": "python",
   "name": "python3"
  },
  "language_info": {
   "codemirror_mode": {
    "name": "ipython",
    "version": 3
   },
   "file_extension": ".py",
   "mimetype": "text/x-python",
   "name": "python",
   "nbconvert_exporter": "python",
   "pygments_lexer": "ipython3",
   "version": "3.9.18"
  }
 },
 "nbformat": 4,
 "nbformat_minor": 2
}
