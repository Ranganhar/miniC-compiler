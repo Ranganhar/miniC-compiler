{
 "cells": [
  {
   "cell_type": "code",
   "execution_count": 1,
   "metadata": {},
   "outputs": [
    {
     "name": "stderr",
     "output_type": "stream",
     "text": [
      "SYSY-compiler: /mnt/e/miniC-compiler/backend/RISCVISel.cpp:127: void RISCVISel::InstLowering(CondInst*): Assertion `cond!=nullptr&&\"Invalid Condition\"' failed.\n",
      "SYSY-compiler: /mnt/e/miniC-compiler/backend/RISCVISel.cpp:127: void RISCVISel::InstLowering(CondInst*): Assertion `cond!=nullptr&&\"Invalid Condition\"' failed.\n",
      "SYSY-compiler: /mnt/e/miniC-compiler/backend/RISCVISel.cpp:127: void RISCVISel::InstLowering(CondInst*): Assertion `cond!=nullptr&&\"Invalid Condition\"' failed.\n"
     ]
    },
    {
     "name": "stdout",
     "output_type": "stream",
     "text": [
      "Compiler Error：./testcases/final_performance/if-combine1.sy\n",
      "Compiler Error：./testcases/final_performance/if-combine2.sy\n",
      "Compiler Error：./testcases/final_performance/if-combine3.sy\n"
     ]
    },
    {
     "name": "stderr",
     "output_type": "stream",
     "text": [
      "SYSY-compiler: /mnt/e/miniC-compiler/backend/LegalizePass.cpp:216: void LegalizeConstInt::LegalizeMOpcode(RISCVMIR*): Assertion `0&&\"Invalid MOpcode type\"' failed.\n",
      "SYSY-compiler: /mnt/e/miniC-compiler/backend/LegalizePass.cpp:216: void LegalizeConstInt::LegalizeMOpcode(RISCVMIR*): Assertion `0&&\"Invalid MOpcode type\"' failed.\n",
      "SYSY-compiler: /mnt/e/miniC-compiler/backend/LegalizePass.cpp:216: void LegalizeConstInt::LegalizeMOpcode(RISCVMIR*): Assertion `0&&\"Invalid MOpcode type\"' failed.\n"
     ]
    },
    {
     "name": "stdout",
     "output_type": "stream",
     "text": [
      "Compiler Error：./testcases/final_performance/matmul1.sy\n",
      "Compiler Error：./testcases/final_performance/matmul2.sy\n",
      "Compiler Error：./testcases/final_performance/matmul3.sy\n"
     ]
    },
    {
     "name": "stderr",
     "output_type": "stream",
     "text": [
      "SYSY-compiler: /mnt/e/miniC-compiler/backend/RISCVISel.cpp:127: void RISCVISel::InstLowering(CondInst*): Assertion `cond!=nullptr&&\"Invalid Condition\"' failed.\n",
      "SYSY-compiler: /mnt/e/miniC-compiler/backend/RISCVISel.cpp:127: void RISCVISel::InstLowering(CondInst*): Assertion `cond!=nullptr&&\"Invalid Condition\"' failed.\n",
      "SYSY-compiler: /mnt/e/miniC-compiler/backend/RISCVISel.cpp:127: void RISCVISel::InstLowering(CondInst*): Assertion `cond!=nullptr&&\"Invalid Condition\"' failed.\n"
     ]
    },
    {
     "name": "stdout",
     "output_type": "stream",
     "text": [
      "Compiler Error：./testcases/functional/21_if_test2.sy\n",
      "Compiler Error：./testcases/functional/22_if_test3.sy\n",
      "Compiler Error：./testcases/functional/23_if_test4.sy\n",
      "Compiler Error：./testcases/functional/24_if_test5.sy\n"
     ]
    },
    {
     "name": "stderr",
     "output_type": "stream",
     "text": [
      "SYSY-compiler: /mnt/e/miniC-compiler/backend/RISCVISel.cpp:127: void RISCVISel::InstLowering(CondInst*): Assertion `cond!=nullptr&&\"Invalid Condition\"' failed.\n",
      "SYSY-compiler: /mnt/e/miniC-compiler/backend/RISCVISel.cpp:127: void RISCVISel::InstLowering(CondInst*): Assertion `cond!=nullptr&&\"Invalid Condition\"' failed.\n"
     ]
    },
    {
     "name": "stdout",
     "output_type": "stream",
     "text": [
      "Compiler Error：./testcases/functional/32_while_if_test2.sy\n"
     ]
    },
    {
     "name": "stderr",
     "output_type": "stream",
     "text": [
      "SYSY-compiler: /mnt/e/miniC-compiler/backend/RISCVISel.cpp:127: void RISCVISel::InstLowering(CondInst*): Assertion `cond!=nullptr&&\"Invalid Condition\"' failed.\n",
      "SYSY-compiler: /mnt/e/miniC-compiler/backend/RISCVISel.cpp:127: void RISCVISel::InstLowering(CondInst*): Assertion `cond!=nullptr&&\"Invalid Condition\"' failed.\n"
     ]
    },
    {
     "name": "stdout",
     "output_type": "stream",
     "text": [
      "Compiler Error：./testcases/functional/40_unary_op.sy\n",
      "Compiler Error：./testcases/functional/41_unary_op2.sy\n"
     ]
    },
    {
     "name": "stderr",
     "output_type": "stream",
     "text": [
      "SYSY-compiler: /mnt/e/miniC-compiler/backend/RISCVISel.cpp:127: void RISCVISel::InstLowering(CondInst*): Assertion `cond!=nullptr&&\"Invalid Condition\"' failed.\n",
      "SYSY-compiler: /mnt/e/miniC-compiler/backend/RISCVISel.cpp:127: void RISCVISel::InstLowering(CondInst*): Assertion `cond!=nullptr&&\"Invalid Condition\"' failed.\n"
     ]
    },
    {
     "name": "stdout",
     "output_type": "stream",
     "text": [
      "Compiler Error：./testcases/functional/49_if_complex_expr.sy\n",
      "Compiler Error：./testcases/functional/51_short_circuit3.sy\n"
     ]
    },
    {
     "name": "stderr",
     "output_type": "stream",
     "text": [
      "SYSY-compiler: /mnt/e/miniC-compiler/backend/RISCVISel.cpp:127: void RISCVISel::InstLowering(CondInst*): Assertion `cond!=nullptr&&\"Invalid Condition\"' failed.\n"
     ]
    },
    {
     "name": "stdout",
     "output_type": "stream",
     "text": [
      "Compiler Error：./testcases/functional/54_hidden_var.sy\n"
     ]
    },
    {
     "name": "stderr",
     "output_type": "stream",
     "text": [
      "SYSY-compiler: /mnt/e/miniC-compiler/backend/LegalizePass.cpp:216: void LegalizeConstInt::LegalizeMOpcode(RISCVMIR*): Assertion `0&&\"Invalid MOpcode type\"' failed.\n"
     ]
    },
    {
     "name": "stdout",
     "output_type": "stream",
     "text": [
      "Compiler Error：./testcases/functional/70_dijkstra.sy\n"
     ]
    },
    {
     "name": "stderr",
     "output_type": "stream",
     "text": [
      "SYSY-compiler: /mnt/e/miniC-compiler/backend/RISCVISel.cpp:127: void RISCVISel::InstLowering(CondInst*): Assertion `cond!=nullptr&&\"Invalid Condition\"' failed.\n",
      "SYSY-compiler: /mnt/e/miniC-compiler/backend/LegalizePass.cpp:216: void LegalizeConstInt::LegalizeMOpcode(RISCVMIR*): Assertion `0&&\"Invalid MOpcode type\"' failed.\n"
     ]
    },
    {
     "name": "stdout",
     "output_type": "stream",
     "text": [
      "Compiler Error：./testcases/functional/82_long_func.sy\n",
      "Compiler Error：./testcases/functional/83_long_array.sy\n"
     ]
    },
    {
     "name": "stderr",
     "output_type": "stream",
     "text": [
      "SYSY-compiler: /mnt/e/miniC-compiler/backend/PhiElimination.cpp:75: PhiElimination::runOnGraph(BasicBlock*, BasicBlock*, std::vector<std::pair<RISCVMOperand*, RISCVMOperand*> >&)::<lambda(int)>: Assertion `graph[ind].indo==1&&\"Unexpected Degree\"' failed.\n"
     ]
    },
    {
     "name": "stdout",
     "output_type": "stream",
     "text": [
      "Compiler Error：./testcases/hidden_functional/18_prim.sy\n"
     ]
    },
    {
     "name": "stderr",
     "output_type": "stream",
     "text": [
      "SYSY-compiler: /mnt/e/miniC-compiler/backend/RISCVISel.cpp:127: void RISCVISel::InstLowering(CondInst*): Assertion `cond!=nullptr&&\"Invalid Condition\"' failed.\n"
     ]
    },
    {
     "name": "stdout",
     "output_type": "stream",
     "text": [
      "Compiler Error：./testcases/hidden_functional/29_long_line.sy\n"
     ]
    },
    {
     "name": "stderr",
     "output_type": "stream",
     "text": [
      "SYSY-compiler: /mnt/e/miniC-compiler/backend/new_graphdraw.cpp:629: void GraphColor::RewriteProgram(): Assertion `0' failed.\n"
     ]
    },
    {
     "name": "stdout",
     "output_type": "stream",
     "text": [
      "Compiler Error：./testcases/hidden_functional/39_fp_params.sy\n"
     ]
    },
    {
     "name": "stderr",
     "output_type": "stream",
     "text": [
      "SYSY-compiler: /mnt/e/miniC-compiler/backend/LegalizePass.cpp:216: void LegalizeConstInt::LegalizeMOpcode(RISCVMIR*): Assertion `0&&\"Invalid MOpcode type\"' failed.\n",
      "SYSY-compiler: /mnt/e/miniC-compiler/backend/LegalizePass.cpp:216: void LegalizeConstInt::LegalizeMOpcode(RISCVMIR*): Assertion `0&&\"Invalid MOpcode type\"' failed.\n"
     ]
    },
    {
     "name": "stdout",
     "output_type": "stream",
     "text": [
      "Compiler Error：./testcases/performance/crypto-1.sy\n",
      "Compiler Error：./testcases/performance/crypto-2.sy\n"
     ]
    },
    {
     "name": "stderr",
     "output_type": "stream",
     "text": [
      "SYSY-compiler: /mnt/e/miniC-compiler/backend/LegalizePass.cpp:216: void LegalizeConstInt::LegalizeMOpcode(RISCVMIR*): Assertion `0&&\"Invalid MOpcode type\"' failed.\n"
     ]
    },
    {
     "name": "stdout",
     "output_type": "stream",
     "text": [
      "Compiler Error：./testcases/performance/crypto-3.sy\n"
     ]
    },
    {
     "ename": "KeyboardInterrupt",
     "evalue": "",
     "output_type": "error",
     "traceback": [
      "\u001b[0;31m---------------------------------------------------------------------------\u001b[0m",
      "\u001b[0;31mKeyboardInterrupt\u001b[0m                         Traceback (most recent call last)",
      "Cell \u001b[0;32mIn[1], line 73\u001b[0m\n\u001b[1;32m     71\u001b[0m         ret \u001b[38;5;241m=\u001b[39m subprocess\u001b[38;5;241m.\u001b[39mrun([\u001b[38;5;124m\"\u001b[39m\u001b[38;5;124mlli-14\u001b[39m\u001b[38;5;124m\"\u001b[39m,\u001b[38;5;124m\"\u001b[39m\u001b[38;5;124m-opaque-pointers\u001b[39m\u001b[38;5;124m\"\u001b[39m,ll_file], stdout\u001b[38;5;241m=\u001b[39msubprocess\u001b[38;5;241m.\u001b[39mPIPE, stderr\u001b[38;5;241m=\u001b[39msubprocess\u001b[38;5;241m.\u001b[39mPIPE, timeout\u001b[38;5;241m=\u001b[39m\u001b[38;5;241m10\u001b[39m)\n\u001b[1;32m     72\u001b[0m     \u001b[38;5;28;01melse\u001b[39;00m:\n\u001b[0;32m---> 73\u001b[0m         ret \u001b[38;5;241m=\u001b[39m \u001b[43msubprocess\u001b[49m\u001b[38;5;241;43m.\u001b[39;49m\u001b[43mrun\u001b[49m\u001b[43m(\u001b[49m\u001b[43m[\u001b[49m\u001b[38;5;124;43m\"\u001b[39;49m\u001b[38;5;124;43mlli-14\u001b[39;49m\u001b[38;5;124;43m\"\u001b[39;49m\u001b[43m,\u001b[49m\u001b[38;5;124;43m\"\u001b[39;49m\u001b[38;5;124;43m-opaque-pointers\u001b[39;49m\u001b[38;5;124;43m\"\u001b[39;49m\u001b[43m,\u001b[49m\u001b[43mll_file\u001b[49m\u001b[43m]\u001b[49m\u001b[43m,\u001b[49m\u001b[43m \u001b[49m\u001b[43mstdout\u001b[49m\u001b[38;5;241;43m=\u001b[39;49m\u001b[43msubprocess\u001b[49m\u001b[38;5;241;43m.\u001b[39;49m\u001b[43mPIPE\u001b[49m\u001b[43m,\u001b[49m\u001b[43m \u001b[49m\u001b[43mstderr\u001b[49m\u001b[38;5;241;43m=\u001b[39;49m\u001b[43msubprocess\u001b[49m\u001b[38;5;241;43m.\u001b[39;49m\u001b[43mPIPE\u001b[49m\u001b[43m,\u001b[49m\u001b[43m \u001b[49m\u001b[38;5;28;43minput\u001b[39;49m\u001b[38;5;241;43m=\u001b[39;49m\u001b[38;5;28;43mopen\u001b[39;49m\u001b[43m(\u001b[49m\u001b[43mtest\u001b[49m\u001b[43m[\u001b[49m\u001b[43m:\u001b[49m\u001b[38;5;241;43m-\u001b[39;49m\u001b[38;5;241;43m2\u001b[39;49m\u001b[43m]\u001b[49m\u001b[38;5;241;43m+\u001b[39;49m\u001b[38;5;124;43m\"\u001b[39;49m\u001b[38;5;124;43min\u001b[39;49m\u001b[38;5;124;43m\"\u001b[39;49m\u001b[43m)\u001b[49m\u001b[38;5;241;43m.\u001b[39;49m\u001b[43mread\u001b[49m\u001b[43m(\u001b[49m\u001b[43m)\u001b[49m\u001b[38;5;241;43m.\u001b[39;49m\u001b[43mencode\u001b[49m\u001b[43m(\u001b[49m\u001b[43m)\u001b[49m\u001b[43m,\u001b[49m\u001b[43m \u001b[49m\u001b[43mtimeout\u001b[49m\u001b[38;5;241;43m=\u001b[39;49m\u001b[38;5;241;43m10\u001b[39;49m\u001b[43m)\u001b[49m\n\u001b[1;32m     74\u001b[0m \u001b[38;5;28;01mexcept\u001b[39;00m subprocess\u001b[38;5;241m.\u001b[39mTimeoutExpired:\n\u001b[1;32m     75\u001b[0m     \u001b[38;5;28mprint\u001b[39m(\u001b[38;5;124m\"\u001b[39m\u001b[38;5;124mTimeout Error\u001b[39m\u001b[38;5;124m\"\u001b[39m)\n",
      "File \u001b[0;32m/mnt/e/miniconda/lib/python3.11/subprocess.py:550\u001b[0m, in \u001b[0;36mrun\u001b[0;34m(input, capture_output, timeout, check, *popenargs, **kwargs)\u001b[0m\n\u001b[1;32m    548\u001b[0m \u001b[38;5;28;01mwith\u001b[39;00m Popen(\u001b[38;5;241m*\u001b[39mpopenargs, \u001b[38;5;241m*\u001b[39m\u001b[38;5;241m*\u001b[39mkwargs) \u001b[38;5;28;01mas\u001b[39;00m process:\n\u001b[1;32m    549\u001b[0m     \u001b[38;5;28;01mtry\u001b[39;00m:\n\u001b[0;32m--> 550\u001b[0m         stdout, stderr \u001b[38;5;241m=\u001b[39m \u001b[43mprocess\u001b[49m\u001b[38;5;241;43m.\u001b[39;49m\u001b[43mcommunicate\u001b[49m\u001b[43m(\u001b[49m\u001b[38;5;28;43minput\u001b[39;49m\u001b[43m,\u001b[49m\u001b[43m \u001b[49m\u001b[43mtimeout\u001b[49m\u001b[38;5;241;43m=\u001b[39;49m\u001b[43mtimeout\u001b[49m\u001b[43m)\u001b[49m\n\u001b[1;32m    551\u001b[0m     \u001b[38;5;28;01mexcept\u001b[39;00m TimeoutExpired \u001b[38;5;28;01mas\u001b[39;00m exc:\n\u001b[1;32m    552\u001b[0m         process\u001b[38;5;241m.\u001b[39mkill()\n",
      "File \u001b[0;32m/mnt/e/miniconda/lib/python3.11/subprocess.py:1209\u001b[0m, in \u001b[0;36mPopen.communicate\u001b[0;34m(self, input, timeout)\u001b[0m\n\u001b[1;32m   1206\u001b[0m     endtime \u001b[38;5;241m=\u001b[39m \u001b[38;5;28;01mNone\u001b[39;00m\n\u001b[1;32m   1208\u001b[0m \u001b[38;5;28;01mtry\u001b[39;00m:\n\u001b[0;32m-> 1209\u001b[0m     stdout, stderr \u001b[38;5;241m=\u001b[39m \u001b[38;5;28;43mself\u001b[39;49m\u001b[38;5;241;43m.\u001b[39;49m\u001b[43m_communicate\u001b[49m\u001b[43m(\u001b[49m\u001b[38;5;28;43minput\u001b[39;49m\u001b[43m,\u001b[49m\u001b[43m \u001b[49m\u001b[43mendtime\u001b[49m\u001b[43m,\u001b[49m\u001b[43m \u001b[49m\u001b[43mtimeout\u001b[49m\u001b[43m)\u001b[49m\n\u001b[1;32m   1210\u001b[0m \u001b[38;5;28;01mexcept\u001b[39;00m \u001b[38;5;167;01mKeyboardInterrupt\u001b[39;00m:\n\u001b[1;32m   1211\u001b[0m     \u001b[38;5;66;03m# https://bugs.python.org/issue25942\u001b[39;00m\n\u001b[1;32m   1212\u001b[0m     \u001b[38;5;66;03m# See the detailed comment in .wait().\u001b[39;00m\n\u001b[1;32m   1213\u001b[0m     \u001b[38;5;28;01mif\u001b[39;00m timeout \u001b[38;5;129;01mis\u001b[39;00m \u001b[38;5;129;01mnot\u001b[39;00m \u001b[38;5;28;01mNone\u001b[39;00m:\n",
      "File \u001b[0;32m/mnt/e/miniconda/lib/python3.11/subprocess.py:2108\u001b[0m, in \u001b[0;36mPopen._communicate\u001b[0;34m(self, input, endtime, orig_timeout)\u001b[0m\n\u001b[1;32m   2101\u001b[0m     \u001b[38;5;28mself\u001b[39m\u001b[38;5;241m.\u001b[39m_check_timeout(endtime, orig_timeout,\n\u001b[1;32m   2102\u001b[0m                         stdout, stderr,\n\u001b[1;32m   2103\u001b[0m                         skip_check_and_raise\u001b[38;5;241m=\u001b[39m\u001b[38;5;28;01mTrue\u001b[39;00m)\n\u001b[1;32m   2104\u001b[0m     \u001b[38;5;28;01mraise\u001b[39;00m \u001b[38;5;167;01mRuntimeError\u001b[39;00m(  \u001b[38;5;66;03m# Impossible :)\u001b[39;00m\n\u001b[1;32m   2105\u001b[0m         \u001b[38;5;124m'\u001b[39m\u001b[38;5;124m_check_timeout(..., skip_check_and_raise=True) \u001b[39m\u001b[38;5;124m'\u001b[39m\n\u001b[1;32m   2106\u001b[0m         \u001b[38;5;124m'\u001b[39m\u001b[38;5;124mfailed to raise TimeoutExpired.\u001b[39m\u001b[38;5;124m'\u001b[39m)\n\u001b[0;32m-> 2108\u001b[0m ready \u001b[38;5;241m=\u001b[39m \u001b[43mselector\u001b[49m\u001b[38;5;241;43m.\u001b[39;49m\u001b[43mselect\u001b[49m\u001b[43m(\u001b[49m\u001b[43mtimeout\u001b[49m\u001b[43m)\u001b[49m\n\u001b[1;32m   2109\u001b[0m \u001b[38;5;28mself\u001b[39m\u001b[38;5;241m.\u001b[39m_check_timeout(endtime, orig_timeout, stdout, stderr)\n\u001b[1;32m   2111\u001b[0m \u001b[38;5;66;03m# XXX Rewrite these to use non-blocking I/O on the file\u001b[39;00m\n\u001b[1;32m   2112\u001b[0m \u001b[38;5;66;03m# objects; they are no longer using C stdio!\u001b[39;00m\n",
      "File \u001b[0;32m/mnt/e/miniconda/lib/python3.11/selectors.py:415\u001b[0m, in \u001b[0;36m_PollLikeSelector.select\u001b[0;34m(self, timeout)\u001b[0m\n\u001b[1;32m    413\u001b[0m ready \u001b[38;5;241m=\u001b[39m []\n\u001b[1;32m    414\u001b[0m \u001b[38;5;28;01mtry\u001b[39;00m:\n\u001b[0;32m--> 415\u001b[0m     fd_event_list \u001b[38;5;241m=\u001b[39m \u001b[38;5;28mself\u001b[39m\u001b[38;5;241m.\u001b[39m_selector\u001b[38;5;241m.\u001b[39mpoll(timeout)\n\u001b[1;32m    416\u001b[0m \u001b[38;5;28;01mexcept\u001b[39;00m \u001b[38;5;167;01mInterruptedError\u001b[39;00m:\n\u001b[1;32m    417\u001b[0m     \u001b[38;5;28;01mreturn\u001b[39;00m ready\n",
      "\u001b[0;31mKeyboardInterrupt\u001b[0m: "
     ]
    }
   ],
   "source": [
    "# Now I want write a test script to test all testcases in testcases folder\n",
    "# The testcases in such format\n",
    "# <name>.sy source code\n",
    "# <name>.in input\n",
    "# <name>.out std output\n",
    "\n",
    "# compiler path: ./build/SYSY-compiler\n",
    "# compiler command: ./build/SYSY-compiler <name>.sy\n",
    "# I need you to run the compiler and get the output llvm ir code, which will be put in <name>.ll \n",
    "# If the compiler doesn't end with 0, keep a record of the trouble file name in CE_list\n",
    "# If the compiler ends with 0, run the llvm ir code with lli and get the output, which will be put in <name>.outq\n",
    "# Compare it with the std output <name>.out ,if is't not that same ,keep a record of the trouble file name in WA_list\n",
    "# Remember to redirect the input and output of lli\n",
    "\n",
    "import os\n",
    "import sys\n",
    "import subprocess\n",
    "import filecmp\n",
    "import difflib\n",
    "\n",
    "compiler_path = \"./build/SYSY-compiler\"\n",
    "test_folder=\"./testcases\"\n",
    "\n",
    "pass_args=[\"--mem2reg\",\"--constprop\",\"--dce\",\"--reassociate\"]\n",
    "\n",
    "# grab all the testcases\n",
    "\n",
    "# find files recursively\n",
    "test_list = []\n",
    "for root, dirs, files in os.walk(test_folder):\n",
    "    for file in files:\n",
    "        if file.endswith(\".sy\"):\n",
    "            test_list.append(os.path.join(root, file))\n",
    "\n",
    "CE_list = []\n",
    "LLI_FAIL_list = []\n",
    "WA_list = []\n",
    "AC_list = []\n",
    "TLE_list = []\n",
    "Time_Out=[]\n",
    "\n",
    "Bad_test = []\n",
    "\n",
    "for test in test_list:\n",
    "    if test.endswith(\".sy\"):\n",
    "        # add test_args to list\n",
    "        compile_args=[compiler_path, test]\n",
    "        for arg in pass_args:\n",
    "            compile_args.append(arg)\n",
    "        try:\n",
    "            ret = subprocess.run(compile_args,timeout=60)\n",
    "        except subprocess.TimeoutExpired:\n",
    "            Time_Out.append(test)\n",
    "            continue\n",
    "        if ret.returncode != 0:\n",
    "            CE_list.append(test)\n",
    "            print(\"Compiler Error：\"+test)\n",
    "            continue\n",
    "        # run lli\n",
    "        ll_file = test+\".ll\"\n",
    "        out_file = test[:-2]+\"out\"\n",
    "        # maybe theres no input file\n",
    "        \n",
    "        if not os.path.exists(test[:-2]+\"in\") and not os.path.exists(out_file):\n",
    "            Bad_test.append(test)\n",
    "            continue\n",
    "        \n",
    "        # Kill program run over 5s, give it a TLE\n",
    "        try:\n",
    "            if not os.path.exists(test[:-2]+\"in\"):\n",
    "                ret = subprocess.run([\"lli-14\",\"-opaque-pointers\",ll_file], stdout=subprocess.PIPE, stderr=subprocess.PIPE, timeout=10)\n",
    "            else:\n",
    "                ret = subprocess.run([\"lli-14\",\"-opaque-pointers\",ll_file], stdout=subprocess.PIPE, stderr=subprocess.PIPE, input=open(test[:-2]+\"in\").read().encode(), timeout=10)\n",
    "        except subprocess.TimeoutExpired:\n",
    "            print(\"Timeout Error\")\n",
    "            TLE_list.append(test)\n",
    "            print(test)\n",
    "            continue\n",
    "            \n",
    "        # compare the output\n",
    "        # Merge The reture Value and stdout\n",
    "        \n",
    "        dump_str=ret.stdout.decode()\n",
    "        # remove whitesspace in the end\n",
    "        # dump_str=dump_str.rstrip()\n",
    "        if dump_str and not dump_str.endswith('\\n'):\n",
    "            dump_str += \"\\n\"\n",
    "        dump_str += str(ret.returncode) + \"\\n\"\n",
    "        std_output=open(out_file).read()\n",
    "        diff = difflib.unified_diff(dump_str.splitlines(), std_output.splitlines(), lineterm='')\n",
    "        if(len(list(diff))!=0):\n",
    "            print(\"Wrong Answer\")\n",
    "            WA_list.append(test)\n",
    "            continue\n",
    "        # print(\"Accepted\")\n",
    "        AC_list.append(test)\n",
    "        \n",
    "print(\"Compiler Error: Total: \"+str(len(CE_list)))\n",
    "print(\"Runtime Error: Total: \"+str(len(LLI_FAIL_list)))\n",
    "print(\"Timeout Error: Total: \"+str(len(TLE_list)))\n",
    "print(\"Wrong Answer: Total: \"+str(len(WA_list)))\n",
    "print(\"TimeOut Function:\"+str(len(Time_Out)))\n",
    "print(\"Bad Test: Total: \"+str(len(Bad_test)))\n",
    "print(\"Accepted: Total: \"+str(len(AC_list)))"
   ]
  },
  {
   "cell_type": "code",
   "execution_count": null,
   "metadata": {},
   "outputs": [
    {
     "name": "stdout",
     "output_type": "stream",
     "text": [
      "['./function_test/test.c']\n",
      "./function_test/test.c.ll\n",
      "Compiler Error: Total: 0\n",
      "Runtime Error: Total: 0\n",
      "Timeout Error: Total: 0\n",
      "Wrong Answer: Total: 0\n",
      "TimeOut Function:0\n",
      "Accepted: Total: 0\n"
     ]
    }
   ],
   "source": [
    "import os\n",
    "import sys\n",
    "import subprocess\n",
    "import filecmp\n",
    "import difflib\n",
    "test_folder=\"./function_test\"\n",
    "CE_list = []\n",
    "LLI_FAIL_list = []\n",
    "WA_list = []\n",
    "AC_list = []\n",
    "TLE_list = []\n",
    "Time_Out=[]\n",
    "compiler_path = \"./build/SYSY-compiler\"\n",
    "pass_args=[\"--mem2reg\"]\n",
    "# ret = subprocess.run([\"lli-14\",\"-opaque-pointers\",ll_file], stdout=subprocess.PIPE, stderr=subprocess.PIPE, input=open(test[:-2]+\"in\").read().encode(), timeout=60)\n",
    "# dump_str=ret.stdout.decode()\n",
    "# print(dump_str)\n",
    "test_list = []\n",
    "for root, dirs, files in os.walk(test_folder):\n",
    "    for file in files:\n",
    "        if file.endswith(\".c\"):\n",
    "            test_list.append(os.path.join(root, file))\n",
    "print(test_list)\n",
    "for test in test_list:\n",
    "    if test.endswith(\".c\"):\n",
    "        # add test_args to list\n",
    "        compile_args=[compiler_path, test]\n",
    "        for arg in pass_args:\n",
    "            compile_args.append(arg)\n",
    "        try:\n",
    "            ret = subprocess.run(compile_args,timeout=60)\n",
    "        except subprocess.TimeoutExpired:\n",
    "            Time_Out.append(test)\n",
    "            continue\n",
    "        if ret.returncode != 0:\n",
    "            CE_list.append(test)\n",
    "            # print(\"Compiler Error\")\n",
    "            continue\n",
    "        # run lli\n",
    "        ll_file = test+\".ll\"\n",
    "        out_file = test[:-2]+\"out\"\n",
    "        # maybe theres no input file\n",
    "        \n",
    "        if not os.path.exists(test[:-2]+\"in\") and not os.path.exists(out_file):\n",
    "            continue\n",
    "        # Kill program run over 5s, give it a TLE\n",
    "        try:\n",
    "            if not os.path.exists(test[:-2]+\"in\"):\n",
    "                ret = subprocess.run([\"lli-14\",\"-opaque-pointers\",ll_file], stdout=subprocess.PIPE, stderr=subprocess.PIPE, timeout=60)\n",
    "            else:\n",
    "                ret = subprocess.run([\"lli-14\",\"-opaque-pointers\",ll_file], stdout=subprocess.PIPE, stderr=subprocess.PIPE, input=open(test[:-2]+\"in\").read().encode(), timeout=60)\n",
    "        except subprocess.TimeoutExpired:\n",
    "            print(\"Timeout Error\")\n",
    "            TLE_list.append(test)\n",
    "            continue\n",
    "            \n",
    "        # compare the output\n",
    "        # Merge The reture Value and stdout\n",
    "        \n",
    "        dump_str=ret.stdout.decode()\n",
    "        # remove whitesspace in the end\n",
    "        # dump_str=dump_str.rstrip()\n",
    "        if dump_str and not dump_str.endswith('\\n'):\n",
    "            dump_str += \"\\n\"\n",
    "        dump_str += str(ret.returncode) + \"\\n\"\n",
    "        std_output=open(out_file).read()\n",
    "        diff = difflib.unified_diff(dump_str.splitlines(), std_output.splitlines(), lineterm='')\n",
    "        if(len(list(diff))!=0):\n",
    "            # print(\"Wrong Answer\")\n",
    "            WA_list.append(test)\n",
    "            continue\n",
    "        # print(\"Accepted\")\n",
    "        AC_list.append(test)\n",
    "        \n",
    "print(\"Compiler Error: Total: \"+str(len(CE_list)))\n",
    "print(\"Runtime Error: Total: \"+str(len(LLI_FAIL_list)))\n",
    "print(\"Timeout Error: Total: \"+str(len(TLE_list)))\n",
    "print(\"Wrong Answer: Total: \"+str(len(WA_list)))\n",
    "print(\"TimeOut Function:\"+str(len(Time_Out)))\n",
    "print(\"Accepted: Total: \"+str(len(AC_list)))"
   ]
  },
  {
   "cell_type": "code",
   "execution_count": 12,
   "metadata": {},
   "outputs": [],
   "source": [
    "for k in range(len(WA_list)):\n",
    "    if len(WA_list) > k:\n",
    "        print(WA_list[k])"
   ]
  },
  {
   "cell_type": "code",
   "execution_count": 10,
   "metadata": {},
   "outputs": [],
   "source": [
    "k=0\n",
    "if len(Time_Out) > k:\n",
    "    print(Time_Out[k])\n",
    "    # move the file to ./function_test/test.c\n",
    "    os.system(\"cp \"+Time_Out[k]+\" ./function_test/test.c\")\n",
    "    os.system(\"cp \"+Time_Out[k][:-2]+\"in\"+\" ./function_test/test.in\")\n",
    "    os.system(\"cp \"+Time_Out[k][:-2]+\"out\"+\" ./function_test/test.out\")"
   ]
  },
  {
   "cell_type": "code",
   "execution_count": 11,
   "metadata": {},
   "outputs": [
    {
     "name": "stdout",
     "output_type": "stream",
     "text": [
      "./testcases/performance/integer-divide-optimization-3.sy\n"
     ]
    }
   ],
   "source": [
    "k=0\n",
    "if len(TLE_list) > k:\n",
    "    print(TLE_list[k])\n",
    "    # move the file to ./function_test/test.c\n",
    "    os.system(\"cp \"+TLE_list[k]+\" ./function_test/test.c\")\n",
    "    os.system(\"cp \"+TLE_list[k][:-2]+\"in\"+\" ./function_test/test.in\")\n",
    "    os.system(\"cp \"+TLE_list[k][:-2]+\"out\"+\" ./function_test/test.out\")"
   ]
  },
  {
   "cell_type": "code",
   "execution_count": 10,
   "metadata": {},
   "outputs": [],
   "source": [
    "import os\n",
    "import shutil\n",
    "\n",
    "current_dir = os.getcwd()\n",
    "target_folder=os.path.join(current_dir,\"include\")\n",
    "# 遍历当前目录下的所有文件和文件夹\n",
    "for root, dirs, files in os.walk(current_dir):\n",
    "    if root=='/mnt/e/miniC-compiler/ir/opt':\n",
    "        os.makedirs(os.path.join(target_folder,\"ir/opt\"),exist_ok=True)\n",
    "        for file in files:\n",
    "            if file.endswith(\".hpp\"):\n",
    "                if not os.path.exists(os.path.join(target_folder,\"ir/opt\")+file):\n",
    "                    path=os.path.join(root,file)\n",
    "                    shutil.move(path,os.path.join(target_folder,\"ir/opt\"))\n",
    "    if root=='/mnt/e/miniC-compiler/backend':\n",
    "        os.makedirs(os.path.join(target_folder,\"backend\"),exist_ok=True)\n",
    "        for file in files:\n",
    "            if file.endswith(\".hpp\"):\n",
    "                if not os.path.exists(os.path.join(target_folder,\"backend\")+file):\n",
    "                    path=os.path.join(root,file)\n",
    "                    shutil.move(path,os.path.join(target_folder,\"backend\"))\n",
    "    if root=='/mnt/e/miniC-compiler/ir/Analysis':\n",
    "        os.makedirs(os.path.join(target_folder,\"ir/Analysis\"),exist_ok=True)\n",
    "        for file in files:\n",
    "            if file.endswith(\".hpp\"):\n",
    "                if not os.path.exists(os.path.join(target_folder,\"ir/Analysis\")+file):\n",
    "                    path=os.path.join(root,file)\n",
    "                    shutil.move(path,os.path.join(target_folder,\"ir/Analysis\"))\n",
    "    if root=='/mnt/e/miniC-compiler/yacc': \n",
    "        os.makedirs(os.path.join(target_folder,\"yacc\"),exist_ok=True)\n",
    "        for file in files:\n",
    "            if file.endswith(\".hpp\") or file.endswith(\".hh\"):\n",
    "                if not os.path.exists(os.path.join(target_folder,\"yacc\")+file):\n",
    "                    path=os.path.join(root,file)\n",
    "                    shutil.move(path,os.path.join(target_folder,\"yacc\"))\n",
    "    if root=='/mnt/e/miniC-compiler/lib':\n",
    "        os.makedirs(os.path.join(target_folder,\"lib\"),exist_ok=True)\n",
    "        for file in files:\n",
    "            if file.endswith(\".hpp\"):\n",
    "                if not os.path.exists(os.path.join(target_folder,\"lib\")+file):\n",
    "                    path=os.path.join(root,file)\n",
    "                    shutil.move(path,os.path.join(target_folder,\"lib\"))\n"
   ]
  },
  {
   "cell_type": "code",
   "execution_count": 13,
   "metadata": {},
   "outputs": [
    {
     "name": "stdout",
     "output_type": "stream",
     "text": [
      "./testcases/functional/61_sort_test7.sy\n"
     ]
    }
   ],
   "source": [
    "k=0\n",
    "if len(CE_list) > k:\n",
    "    print(CE_list[k])\n",
    "    # move the file to ./function_test/test.c\n",
    "    os.system(\"cp \"+CE_list[k]+\" ./function_test/test.c\")\n",
    "    os.system(\"cp \"+CE_list[k][:-2]+\"in\"+\" ./function_test/test.in\")\n",
    "    os.system(\"cp \"+CE_list[k][:-2]+\"out\"+\" ./function_test/test.out\")"
   ]
  },
  {
   "cell_type": "code",
   "execution_count": 2,
   "metadata": {},
   "outputs": [],
   "source": [
    "import tvm as t"
   ]
  }
 ],
 "metadata": {
  "kernelspec": {
   "display_name": "Python 3",
   "language": "python",
   "name": "python3"
  },
  "language_info": {
   "codemirror_mode": {
    "name": "ipython",
    "version": 3
   },
   "file_extension": ".py",
   "mimetype": "text/x-python",
   "name": "python",
   "nbconvert_exporter": "python",
   "pygments_lexer": "ipython3",
   "version": "3.11.5"
  }
 },
 "nbformat": 4,
 "nbformat_minor": 2
}
